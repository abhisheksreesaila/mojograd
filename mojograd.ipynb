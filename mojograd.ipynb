{
 "cells": [
  {
   "cell_type": "markdown",
   "metadata": {},
   "source": [
    "# BETA"
   ]
  },
  {
   "cell_type": "code",
   "execution_count": 4,
   "metadata": {},
   "outputs": [],
   "source": [
    "## pick random stuff and name the headings. combine later\n",
    "from tensor import Tensor, TensorShape, TensorSpec\n",
    "from math import trunc, mod\n",
    "from memory import memset_zero\n",
    "from sys.info import simdwidthof, simdbitwidth\n",
    "from algorithm import vectorize, parallelize, vectorize_unroll\n",
    "from utils.index import Index\n",
    "from random import rand, seed\n",
    "from python import Python\n",
    "import time"
   ]
  },
  {
   "cell_type": "code",
   "execution_count": null,
   "metadata": {},
   "outputs": [],
   "source": [
    "# python interop\n",
    "\n",
    "let np = Python.import_module(\"numpy\")"
   ]
  },
  {
   "cell_type": "code",
   "execution_count": 5,
   "metadata": {},
   "outputs": [
    {
     "name": "stdout",
     "output_type": "stream",
     "text": [
      "SIMD bit width 128\n",
      "SIMD Width 16\n"
     ]
    }
   ],
   "source": [
    "## SIMD  width\n",
    "alias dtype = DType.int8\n",
    "alias simd_width: Int = simdwidthof[dtype]() # get your architecture width\n",
    "print(\"SIMD bit width\",simdbitwidth())\n",
    "print(\"SIMD Width\",simd_width)\n"
   ]
  },
  {
   "cell_type": "code",
   "execution_count": null,
   "metadata": {},
   "outputs": [],
   "source": []
  },
  {
   "cell_type": "markdown",
   "metadata": {},
   "source": []
  }
 ],
 "metadata": {
  "kernelspec": {
   "display_name": "Mojo",
   "language": "mojo",
   "name": "mojo-jupyter-kernel"
  },
  "language_info": {
   "codemirror_mode": {
    "name": "mojo"
   },
   "file_extension": ".mojo",
   "mimetype": "text/x-mojo",
   "name": "mojo"
  }
 },
 "nbformat": 4,
 "nbformat_minor": 2
}
